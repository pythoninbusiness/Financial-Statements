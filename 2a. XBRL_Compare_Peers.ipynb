{
 "cells": [
  {
   "cell_type": "markdown",
   "source": [
    "# Compare Peer Companies using XBRL Data\r\n",
    "\r\n",
    "The purpose of this notebook is to scrape Edgar filings and use the underlying XBRL data to compare between companies. This results is a horizontal comparison between companies with similar concepts and facts. For example, in this case we are looking at two Companies that occupy the digital infrastructure space."
   ],
   "metadata": {}
  },
  {
   "cell_type": "code",
   "execution_count": 1,
   "source": [
    "from Helpers.XBRL import XBRLReport\r\n",
    "import plotly.express as px\r\n",
    "import pandas as pd"
   ],
   "outputs": [],
   "metadata": {}
  },
  {
   "cell_type": "code",
   "execution_count": 2,
   "source": [
    "filing_url = \"https://www.sec.gov/ix?doc=/Archives/edgar/data/1679688/000167968821000085/dbrg-20210630.htm\"\r\n",
    "peer_filing_url = \"https://www.sec.gov/ix?doc=/Archives/edgar/data/1101239/000162828021015030/eqix-20210630.htm\""
   ],
   "outputs": [],
   "metadata": {}
  },
  {
   "cell_type": "markdown",
   "source": [
    "# Instantiate\r\n",
    "## Load both the Company of interest filing and one peer filing "
   ],
   "metadata": {}
  },
  {
   "cell_type": "code",
   "execution_count": 3,
   "source": [
    "report = XBRLReport.XBRLReport(filing_url)\r\n",
    "report.append_report(peer_filing_url)"
   ],
   "outputs": [
    {
     "output_type": "stream",
     "name": "stdout",
     "text": [
      "Initial report successfully loaded!\n",
      "Additional report successfully appended!\n"
     ]
    }
   ],
   "metadata": {}
  },
  {
   "cell_type": "markdown",
   "source": [
    "# Prepare data\r\n",
    "\r\n",
    "We first drop duplicates in order to successfully unstack the dataframe later on. This will remove certain concepts from our analysis, but it is necessary in order to compare between companies. The amount of concepts that will be removed shouldn't be large, as these are most likely specific concepts that should have had additional dimensions added to it. \r\n",
    "\r\n",
    "We then set the index so that we know each row is a unique item (i.e., unique subset of ticker, name, dimension and date). Once we have each row as a unique fact and date, then we can move the Ticker back to the column. "
   ],
   "metadata": {}
  },
  {
   "cell_type": "code",
   "execution_count": 4,
   "source": [
    "df = report.facts_df.copy()\r\n",
    "df = df.drop_duplicates(subset=[\"name\", \"dimensions\", \"date\", \"Ticker\"], keep=False)\r\n",
    "df = df.set_index([\"Ticker\", \"name\", \"dimensions\", \"date\"])[[\"value\"]]\r\n",
    "unstacked = df.sort_values([\"name\", \"dimensions\", \"date\"]).unstack(level=\"Ticker\")\r\n",
    "unstacked.columns = unstacked.columns.droplevel(0)"
   ],
   "outputs": [],
   "metadata": {}
  },
  {
   "cell_type": "code",
   "execution_count": 5,
   "source": [
    "tickers = unstacked.columns.tolist()\r\n",
    "for ticker in tickers:\r\n",
    "    unstacked[ticker] = pd.to_numeric(unstacked[ticker], errors=\"coerce\")\r\n",
    "\r\n",
    "# Remove rows (i.e., concepts) where both companies don't have a value \r\n",
    "# Make sure all companies have similar concepts before dropping all willy nilly\r\n",
    "unstacked = unstacked.dropna(how='any').reset_index()"
   ],
   "outputs": [],
   "metadata": {}
  },
  {
   "cell_type": "markdown",
   "source": [
    "# Ad Hoc Analysis\r\n",
    "\r\n",
    "Compare concepts between companies. Need to search for concepts. "
   ],
   "metadata": {}
  },
  {
   "cell_type": "code",
   "execution_count": 6,
   "source": [
    "unstacked\\\r\n",
    "    .sample(10)\\\r\n",
    "    .style\\\r\n",
    "    .format({col: '{:,.0f}'\\\r\n",
    "    .format for col in unstacked.select_dtypes(\"number\").columns })"
   ],
   "outputs": [
    {
     "output_type": "execute_result",
     "data": {
      "text/html": [
       "<style  type=\"text/css\" >\n",
       "</style><table id=\"T_c910d_\" ><thead>    <tr>        <th class=\"index_name level0\" >Ticker</th>        <th class=\"col_heading level0 col0\" >name</th>        <th class=\"col_heading level0 col1\" >dimensions</th>        <th class=\"col_heading level0 col2\" >date</th>        <th class=\"col_heading level0 col3\" >DBRG</th>        <th class=\"col_heading level0 col4\" >EQIX</th>    </tr></thead><tbody>\n",
       "                <tr>\n",
       "                        <th id=\"T_c910d_level0_row0\" class=\"row_heading level0 row0\" >104</th>\n",
       "                        <td id=\"T_c910d_row0_col0\" class=\"data row0 col0\" >StockholdersEquity</td>\n",
       "                        <td id=\"T_c910d_row0_col1\" class=\"data row0 col1\" ></td>\n",
       "                        <td id=\"T_c910d_row0_col2\" class=\"data row0 col2\" >06/30/2021</td>\n",
       "                        <td id=\"T_c910d_row0_col3\" class=\"data row0 col3\" >2,108,952,000</td>\n",
       "                        <td id=\"T_c910d_row0_col4\" class=\"data row0 col4\" >10,646,472,000</td>\n",
       "            </tr>\n",
       "            <tr>\n",
       "                        <th id=\"T_c910d_level0_row1\" class=\"row_heading level0 row1\" >36</th>\n",
       "                        <td id=\"T_c910d_row1_col0\" class=\"data row1 col0\" >EquityMethodInvestments</td>\n",
       "                        <td id=\"T_c910d_row1_col1\" class=\"data row1 col1\" ></td>\n",
       "                        <td id=\"T_c910d_row1_col2\" class=\"data row1 col2\" >12/31/2020</td>\n",
       "                        <td id=\"T_c910d_row1_col3\" class=\"data row1 col3\" >574,511,000</td>\n",
       "                        <td id=\"T_c910d_row1_col4\" class=\"data row1 col4\" >163,071,000</td>\n",
       "            </tr>\n",
       "            <tr>\n",
       "                        <th id=\"T_c910d_level0_row2\" class=\"row_heading level0 row2\" >117</th>\n",
       "                        <td id=\"T_c910d_row2_col0\" class=\"data row2 col0\" >StockholdersEquityIncludingPortionAttributableToNoncontrollingInterest</td>\n",
       "                        <td id=\"T_c910d_row2_col1\" class=\"data row2 col1\" >us-gaap:StatementEquityComponentsAxis [us-gaap:AdditionalPaidInCapitalMember]</td>\n",
       "                        <td id=\"T_c910d_row2_col2\" class=\"data row2 col2\" >03/31/2020</td>\n",
       "                        <td id=\"T_c910d_row2_col3\" class=\"data row2 col3\" >7,532,213,000</td>\n",
       "                        <td id=\"T_c910d_row2_col4\" class=\"data row2 col4\" >12,893,455,000</td>\n",
       "            </tr>\n",
       "            <tr>\n",
       "                        <th id=\"T_c910d_level0_row3\" class=\"row_heading level0 row3\" >43</th>\n",
       "                        <td id=\"T_c910d_row3_col0\" class=\"data row3 col0\" >FinanceLeaseLiability</td>\n",
       "                        <td id=\"T_c910d_row3_col1\" class=\"data row3 col1\" ></td>\n",
       "                        <td id=\"T_c910d_row3_col2\" class=\"data row3 col2\" >06/30/2021</td>\n",
       "                        <td id=\"T_c910d_row3_col3\" class=\"data row3 col3\" >145,178,000</td>\n",
       "                        <td id=\"T_c910d_row3_col4\" class=\"data row3 col4\" >2,148,326,000</td>\n",
       "            </tr>\n",
       "            <tr>\n",
       "                        <th id=\"T_c910d_level0_row4\" class=\"row_heading level0 row4\" >38</th>\n",
       "                        <td id=\"T_c910d_row4_col0\" class=\"data row4 col0\" >EquitySecuritiesFvNi</td>\n",
       "                        <td id=\"T_c910d_row4_col1\" class=\"data row4 col1\" >us-gaap:FairValueByFairValueHierarchyLevelAxis [us-gaap:FairValueInputsLevel1Member]\n",
       "us-gaap:FairValueByMeasurementFrequencyAxis [us-gaap:FairValueMeasurementsRecurringMember]</td>\n",
       "                        <td id=\"T_c910d_row4_col2\" class=\"data row4 col2\" >12/31/2020</td>\n",
       "                        <td id=\"T_c910d_row4_col3\" class=\"data row4 col3\" >218,485,000</td>\n",
       "                        <td id=\"T_c910d_row4_col4\" class=\"data row4 col4\" >159,000</td>\n",
       "            </tr>\n",
       "            <tr>\n",
       "                        <th id=\"T_c910d_level0_row5\" class=\"row_heading level0 row5\" >6</th>\n",
       "                        <td id=\"T_c910d_row5_col0\" class=\"data row5 col0\" >CashAndCashEquivalentsAtCarryingValue</td>\n",
       "                        <td id=\"T_c910d_row5_col1\" class=\"data row5 col1\" ></td>\n",
       "                        <td id=\"T_c910d_row5_col2\" class=\"data row5 col2\" >06/30/2020</td>\n",
       "                        <td id=\"T_c910d_row5_col3\" class=\"data row5 col3\" >1,099,467,000</td>\n",
       "                        <td id=\"T_c910d_row5_col4\" class=\"data row5 col4\" >4,785,050,000</td>\n",
       "            </tr>\n",
       "            <tr>\n",
       "                        <th id=\"T_c910d_level0_row6\" class=\"row_heading level0 row6\" >120</th>\n",
       "                        <td id=\"T_c910d_row6_col0\" class=\"data row6 col0\" >StockholdersEquityIncludingPortionAttributableToNoncontrollingInterest</td>\n",
       "                        <td id=\"T_c910d_row6_col1\" class=\"data row6 col1\" >us-gaap:StatementEquityComponentsAxis [us-gaap:AdditionalPaidInCapitalMember]</td>\n",
       "                        <td id=\"T_c910d_row6_col2\" class=\"data row6 col2\" >06/30/2021</td>\n",
       "                        <td id=\"T_c910d_row6_col3\" class=\"data row6 col3\" >7,622,382,000</td>\n",
       "                        <td id=\"T_c910d_row6_col4\" class=\"data row6 col4\" >15,360,726,000</td>\n",
       "            </tr>\n",
       "            <tr>\n",
       "                        <th id=\"T_c910d_level0_row7\" class=\"row_heading level0 row7\" >17</th>\n",
       "                        <td id=\"T_c910d_row7_col0\" class=\"data row7 col0\" >ComprehensiveIncomeNetOfTaxIncludingPortionAttributableToNoncontrollingInterest</td>\n",
       "                        <td id=\"T_c910d_row7_col1\" class=\"data row7 col1\" ></td>\n",
       "                        <td id=\"T_c910d_row7_col2\" class=\"data row7 col2\" >04/01/2021 to 06/30/2021</td>\n",
       "                        <td id=\"T_c910d_row7_col3\" class=\"data row7 col3\" >-114,586,000</td>\n",
       "                        <td id=\"T_c910d_row7_col4\" class=\"data row7 col4\" >136,232,000</td>\n",
       "            </tr>\n",
       "            <tr>\n",
       "                        <th id=\"T_c910d_level0_row8\" class=\"row_heading level0 row8\" >77</th>\n",
       "                        <td id=\"T_c910d_row8_col0\" class=\"data row8 col0\" >OtherComprehensiveIncomeLossCashFlowHedgeGainLossAfterReclassificationAndTax</td>\n",
       "                        <td id=\"T_c910d_row8_col1\" class=\"data row8 col1\" ></td>\n",
       "                        <td id=\"T_c910d_row8_col2\" class=\"data row8 col2\" >01/01/2021 to 06/30/2021</td>\n",
       "                        <td id=\"T_c910d_row8_col3\" class=\"data row8 col3\" >1,285,000</td>\n",
       "                        <td id=\"T_c910d_row8_col4\" class=\"data row8 col4\" >23,778,000</td>\n",
       "            </tr>\n",
       "            <tr>\n",
       "                        <th id=\"T_c910d_level0_row9\" class=\"row_heading level0 row9\" >97</th>\n",
       "                        <td id=\"T_c910d_row9_col0\" class=\"data row9 col0\" >RetainedEarningsAccumulatedDeficit</td>\n",
       "                        <td id=\"T_c910d_row9_col1\" class=\"data row9 col1\" ></td>\n",
       "                        <td id=\"T_c910d_row9_col2\" class=\"data row9 col2\" >06/30/2021</td>\n",
       "                        <td id=\"T_c910d_row9_col3\" class=\"data row9 col3\" >-6,601,522,000</td>\n",
       "                        <td id=\"T_c910d_row9_col4\" class=\"data row9 col4\" >1,985,003,000</td>\n",
       "            </tr>\n",
       "    </tbody></table>"
      ],
      "text/plain": [
       "<pandas.io.formats.style.Styler at 0x23468480580>"
      ]
     },
     "metadata": {},
     "execution_count": 6
    }
   ],
   "metadata": {}
  },
  {
   "cell_type": "code",
   "execution_count": 7,
   "source": [
    "unstacked.query(\"name.str.contains('income|loss', case=False)\")\\\r\n",
    "    .head()\\\r\n",
    "    .style\\\r\n",
    "    .format({col: '{:,.0f}'\\\r\n",
    "    .format for col in unstacked.select_dtypes(\"number\").columns })"
   ],
   "outputs": [
    {
     "output_type": "execute_result",
     "data": {
      "text/html": [
       "<style  type=\"text/css\" >\n",
       "</style><table id=\"T_4edc3_\" ><thead>    <tr>        <th class=\"index_name level0\" >Ticker</th>        <th class=\"col_heading level0 col0\" >name</th>        <th class=\"col_heading level0 col1\" >dimensions</th>        <th class=\"col_heading level0 col2\" >date</th>        <th class=\"col_heading level0 col3\" >DBRG</th>        <th class=\"col_heading level0 col4\" >EQIX</th>    </tr></thead><tbody>\n",
       "                <tr>\n",
       "                        <th id=\"T_4edc3_level0_row0\" class=\"row_heading level0 row0\" >0</th>\n",
       "                        <td id=\"T_4edc3_row0_col0\" class=\"data row0 col0\" >AccumulatedOtherComprehensiveIncomeLossNetOfTax</td>\n",
       "                        <td id=\"T_4edc3_row0_col1\" class=\"data row0 col1\" ></td>\n",
       "                        <td id=\"T_4edc3_row0_col2\" class=\"data row0 col2\" >06/30/2021</td>\n",
       "                        <td id=\"T_4edc3_row0_col3\" class=\"data row0 col3\" >83,675,000</td>\n",
       "                        <td id=\"T_4edc3_row0_col4\" class=\"data row0 col4\" >-941,114,000</td>\n",
       "            </tr>\n",
       "            <tr>\n",
       "                        <th id=\"T_4edc3_level0_row1\" class=\"row_heading level0 row1\" >1</th>\n",
       "                        <td id=\"T_4edc3_row1_col0\" class=\"data row1 col0\" >AccumulatedOtherComprehensiveIncomeLossNetOfTax</td>\n",
       "                        <td id=\"T_4edc3_row1_col1\" class=\"data row1 col1\" ></td>\n",
       "                        <td id=\"T_4edc3_row1_col2\" class=\"data row1 col2\" >12/31/2020</td>\n",
       "                        <td id=\"T_4edc3_row1_col3\" class=\"data row1 col3\" >122,123,000</td>\n",
       "                        <td id=\"T_4edc3_row1_col4\" class=\"data row1 col4\" >-913,368,000</td>\n",
       "            </tr>\n",
       "            <tr>\n",
       "                        <th id=\"T_4edc3_level0_row2\" class=\"row_heading level0 row2\" >10</th>\n",
       "                        <td id=\"T_4edc3_row2_col0\" class=\"data row2 col0\" >ComprehensiveIncomeNetOfTax</td>\n",
       "                        <td id=\"T_4edc3_row2_col1\" class=\"data row2 col1\" ></td>\n",
       "                        <td id=\"T_4edc3_row2_col2\" class=\"data row2 col2\" >01/01/2020 to 06/30/2020</td>\n",
       "                        <td id=\"T_4edc3_row2_col3\" class=\"data row2 col3\" >-2,369,714,000</td>\n",
       "                        <td id=\"T_4edc3_row2_col4\" class=\"data row2 col4\" >46,418,000</td>\n",
       "            </tr>\n",
       "            <tr>\n",
       "                        <th id=\"T_4edc3_level0_row3\" class=\"row_heading level0 row3\" >11</th>\n",
       "                        <td id=\"T_4edc3_row3_col0\" class=\"data row3 col0\" >ComprehensiveIncomeNetOfTax</td>\n",
       "                        <td id=\"T_4edc3_row3_col1\" class=\"data row3 col1\" ></td>\n",
       "                        <td id=\"T_4edc3_row3_col2\" class=\"data row3 col2\" >01/01/2021 to 06/30/2021</td>\n",
       "                        <td id=\"T_4edc3_row3_col3\" class=\"data row3 col3\" >-407,477,000</td>\n",
       "                        <td id=\"T_4edc3_row3_col4\" class=\"data row3 col4\" >196,955,000</td>\n",
       "            </tr>\n",
       "            <tr>\n",
       "                        <th id=\"T_4edc3_level0_row4\" class=\"row_heading level0 row4\" >12</th>\n",
       "                        <td id=\"T_4edc3_row4_col0\" class=\"data row4 col0\" >ComprehensiveIncomeNetOfTax</td>\n",
       "                        <td id=\"T_4edc3_row4_col1\" class=\"data row4 col1\" ></td>\n",
       "                        <td id=\"T_4edc3_row4_col2\" class=\"data row4 col2\" >04/01/2020 to 06/30/2020</td>\n",
       "                        <td id=\"T_4edc3_row4_col3\" class=\"data row4 col3\" >-1,996,141,000</td>\n",
       "                        <td id=\"T_4edc3_row4_col4\" class=\"data row4 col4\" >199,682,000</td>\n",
       "            </tr>\n",
       "    </tbody></table>"
      ],
      "text/plain": [
       "<pandas.io.formats.style.Styler at 0x23468480160>"
      ]
     },
     "metadata": {},
     "execution_count": 7
    }
   ],
   "metadata": {}
  },
  {
   "cell_type": "markdown",
   "source": [
    "# Visualizations"
   ],
   "metadata": {}
  },
  {
   "cell_type": "code",
   "execution_count": 8,
   "source": [
    "px.bar(unstacked.query(\"name.str.contains('Asset')\"), x=\"name\", y=\"DBRG\", color=\"date\", barmode=\"group\")"
   ],
   "outputs": [
    {
     "output_type": "display_data",
     "data": {
      "application/vnd.plotly.v1+json": {
       "config": {
        "plotlyServerURL": "https://plot.ly"
       },
       "data": [
        {
         "alignmentgroup": "True",
         "hovertemplate": "date=01/01/2020 to 06/30/2020<br>name=%{x}<br>DBRG=%{y}<extra></extra>",
         "legendgroup": "01/01/2020 to 06/30/2020",
         "marker": {
          "color": "#636efa"
         },
         "name": "01/01/2020 to 06/30/2020",
         "offsetgroup": "01/01/2020 to 06/30/2020",
         "orientation": "v",
         "showlegend": true,
         "textposition": "auto",
         "type": "bar",
         "x": [
          "AmortizationOfIntangibleAssets",
          "IncreaseDecreaseInOtherOperatingAssets",
          "RightOfUseAssetObtainedInExchangeForOperatingLeaseLiability"
         ],
         "xaxis": "x",
         "y": [
          42195000,
          -11381000,
          4973000
         ],
         "yaxis": "y"
        },
        {
         "alignmentgroup": "True",
         "hovertemplate": "date=01/01/2021 to 06/30/2021<br>name=%{x}<br>DBRG=%{y}<extra></extra>",
         "legendgroup": "01/01/2021 to 06/30/2021",
         "marker": {
          "color": "#EF553B"
         },
         "name": "01/01/2021 to 06/30/2021",
         "offsetgroup": "01/01/2021 to 06/30/2021",
         "orientation": "v",
         "showlegend": true,
         "textposition": "auto",
         "type": "bar",
         "x": [
          "AmortizationOfIntangibleAssets",
          "IncreaseDecreaseInOtherOperatingAssets",
          "RightOfUseAssetObtainedInExchangeForOperatingLeaseLiability"
         ],
         "xaxis": "x",
         "y": [
          133836000,
          57321000,
          36320000
         ],
         "yaxis": "y"
        },
        {
         "alignmentgroup": "True",
         "hovertemplate": "date=06/30/2021<br>name=%{x}<br>DBRG=%{y}<extra></extra>",
         "legendgroup": "06/30/2021",
         "marker": {
          "color": "#00cc96"
         },
         "name": "06/30/2021",
         "offsetgroup": "06/30/2021",
         "orientation": "v",
         "showlegend": true,
         "textposition": "auto",
         "type": "bar",
         "x": [
          "Assets",
          "DerivativeAssets",
          "FinanceLeaseRightOfUseAsset",
          "FiniteLivedIntangibleAssetsNet"
         ],
         "xaxis": "x",
         "y": [
          15921346000,
          87000,
          137360000,
          1230625000
         ],
         "yaxis": "y"
        },
        {
         "alignmentgroup": "True",
         "hovertemplate": "date=12/31/2020<br>name=%{x}<br>DBRG=%{y}<extra></extra>",
         "legendgroup": "12/31/2020",
         "marker": {
          "color": "#ab63fa"
         },
         "name": "12/31/2020",
         "offsetgroup": "12/31/2020",
         "orientation": "v",
         "showlegend": true,
         "textposition": "auto",
         "type": "bar",
         "x": [
          "Assets",
          "DerivativeAssets",
          "FinanceLeaseRightOfUseAsset",
          "FiniteLivedIntangibleAssetsNet"
         ],
         "xaxis": "x",
         "y": [
          20200560000,
          99000,
          143182000,
          1340760000
         ],
         "yaxis": "y"
        }
       ],
       "layout": {
        "barmode": "group",
        "legend": {
         "title": {
          "text": "date"
         },
         "tracegroupgap": 0
        },
        "margin": {
         "t": 60
        },
        "template": {
         "data": {
          "bar": [
           {
            "error_x": {
             "color": "#2a3f5f"
            },
            "error_y": {
             "color": "#2a3f5f"
            },
            "marker": {
             "line": {
              "color": "#E5ECF6",
              "width": 0.5
             }
            },
            "type": "bar"
           }
          ],
          "barpolar": [
           {
            "marker": {
             "line": {
              "color": "#E5ECF6",
              "width": 0.5
             }
            },
            "type": "barpolar"
           }
          ],
          "carpet": [
           {
            "aaxis": {
             "endlinecolor": "#2a3f5f",
             "gridcolor": "white",
             "linecolor": "white",
             "minorgridcolor": "white",
             "startlinecolor": "#2a3f5f"
            },
            "baxis": {
             "endlinecolor": "#2a3f5f",
             "gridcolor": "white",
             "linecolor": "white",
             "minorgridcolor": "white",
             "startlinecolor": "#2a3f5f"
            },
            "type": "carpet"
           }
          ],
          "choropleth": [
           {
            "colorbar": {
             "outlinewidth": 0,
             "ticks": ""
            },
            "type": "choropleth"
           }
          ],
          "contour": [
           {
            "colorbar": {
             "outlinewidth": 0,
             "ticks": ""
            },
            "colorscale": [
             [
              0,
              "#0d0887"
             ],
             [
              0.1111111111111111,
              "#46039f"
             ],
             [
              0.2222222222222222,
              "#7201a8"
             ],
             [
              0.3333333333333333,
              "#9c179e"
             ],
             [
              0.4444444444444444,
              "#bd3786"
             ],
             [
              0.5555555555555556,
              "#d8576b"
             ],
             [
              0.6666666666666666,
              "#ed7953"
             ],
             [
              0.7777777777777778,
              "#fb9f3a"
             ],
             [
              0.8888888888888888,
              "#fdca26"
             ],
             [
              1,
              "#f0f921"
             ]
            ],
            "type": "contour"
           }
          ],
          "contourcarpet": [
           {
            "colorbar": {
             "outlinewidth": 0,
             "ticks": ""
            },
            "type": "contourcarpet"
           }
          ],
          "heatmap": [
           {
            "colorbar": {
             "outlinewidth": 0,
             "ticks": ""
            },
            "colorscale": [
             [
              0,
              "#0d0887"
             ],
             [
              0.1111111111111111,
              "#46039f"
             ],
             [
              0.2222222222222222,
              "#7201a8"
             ],
             [
              0.3333333333333333,
              "#9c179e"
             ],
             [
              0.4444444444444444,
              "#bd3786"
             ],
             [
              0.5555555555555556,
              "#d8576b"
             ],
             [
              0.6666666666666666,
              "#ed7953"
             ],
             [
              0.7777777777777778,
              "#fb9f3a"
             ],
             [
              0.8888888888888888,
              "#fdca26"
             ],
             [
              1,
              "#f0f921"
             ]
            ],
            "type": "heatmap"
           }
          ],
          "heatmapgl": [
           {
            "colorbar": {
             "outlinewidth": 0,
             "ticks": ""
            },
            "colorscale": [
             [
              0,
              "#0d0887"
             ],
             [
              0.1111111111111111,
              "#46039f"
             ],
             [
              0.2222222222222222,
              "#7201a8"
             ],
             [
              0.3333333333333333,
              "#9c179e"
             ],
             [
              0.4444444444444444,
              "#bd3786"
             ],
             [
              0.5555555555555556,
              "#d8576b"
             ],
             [
              0.6666666666666666,
              "#ed7953"
             ],
             [
              0.7777777777777778,
              "#fb9f3a"
             ],
             [
              0.8888888888888888,
              "#fdca26"
             ],
             [
              1,
              "#f0f921"
             ]
            ],
            "type": "heatmapgl"
           }
          ],
          "histogram": [
           {
            "marker": {
             "colorbar": {
              "outlinewidth": 0,
              "ticks": ""
             }
            },
            "type": "histogram"
           }
          ],
          "histogram2d": [
           {
            "colorbar": {
             "outlinewidth": 0,
             "ticks": ""
            },
            "colorscale": [
             [
              0,
              "#0d0887"
             ],
             [
              0.1111111111111111,
              "#46039f"
             ],
             [
              0.2222222222222222,
              "#7201a8"
             ],
             [
              0.3333333333333333,
              "#9c179e"
             ],
             [
              0.4444444444444444,
              "#bd3786"
             ],
             [
              0.5555555555555556,
              "#d8576b"
             ],
             [
              0.6666666666666666,
              "#ed7953"
             ],
             [
              0.7777777777777778,
              "#fb9f3a"
             ],
             [
              0.8888888888888888,
              "#fdca26"
             ],
             [
              1,
              "#f0f921"
             ]
            ],
            "type": "histogram2d"
           }
          ],
          "histogram2dcontour": [
           {
            "colorbar": {
             "outlinewidth": 0,
             "ticks": ""
            },
            "colorscale": [
             [
              0,
              "#0d0887"
             ],
             [
              0.1111111111111111,
              "#46039f"
             ],
             [
              0.2222222222222222,
              "#7201a8"
             ],
             [
              0.3333333333333333,
              "#9c179e"
             ],
             [
              0.4444444444444444,
              "#bd3786"
             ],
             [
              0.5555555555555556,
              "#d8576b"
             ],
             [
              0.6666666666666666,
              "#ed7953"
             ],
             [
              0.7777777777777778,
              "#fb9f3a"
             ],
             [
              0.8888888888888888,
              "#fdca26"
             ],
             [
              1,
              "#f0f921"
             ]
            ],
            "type": "histogram2dcontour"
           }
          ],
          "mesh3d": [
           {
            "colorbar": {
             "outlinewidth": 0,
             "ticks": ""
            },
            "type": "mesh3d"
           }
          ],
          "parcoords": [
           {
            "line": {
             "colorbar": {
              "outlinewidth": 0,
              "ticks": ""
             }
            },
            "type": "parcoords"
           }
          ],
          "pie": [
           {
            "automargin": true,
            "type": "pie"
           }
          ],
          "scatter": [
           {
            "marker": {
             "colorbar": {
              "outlinewidth": 0,
              "ticks": ""
             }
            },
            "type": "scatter"
           }
          ],
          "scatter3d": [
           {
            "line": {
             "colorbar": {
              "outlinewidth": 0,
              "ticks": ""
             }
            },
            "marker": {
             "colorbar": {
              "outlinewidth": 0,
              "ticks": ""
             }
            },
            "type": "scatter3d"
           }
          ],
          "scattercarpet": [
           {
            "marker": {
             "colorbar": {
              "outlinewidth": 0,
              "ticks": ""
             }
            },
            "type": "scattercarpet"
           }
          ],
          "scattergeo": [
           {
            "marker": {
             "colorbar": {
              "outlinewidth": 0,
              "ticks": ""
             }
            },
            "type": "scattergeo"
           }
          ],
          "scattergl": [
           {
            "marker": {
             "colorbar": {
              "outlinewidth": 0,
              "ticks": ""
             }
            },
            "type": "scattergl"
           }
          ],
          "scattermapbox": [
           {
            "marker": {
             "colorbar": {
              "outlinewidth": 0,
              "ticks": ""
             }
            },
            "type": "scattermapbox"
           }
          ],
          "scatterpolar": [
           {
            "marker": {
             "colorbar": {
              "outlinewidth": 0,
              "ticks": ""
             }
            },
            "type": "scatterpolar"
           }
          ],
          "scatterpolargl": [
           {
            "marker": {
             "colorbar": {
              "outlinewidth": 0,
              "ticks": ""
             }
            },
            "type": "scatterpolargl"
           }
          ],
          "scatterternary": [
           {
            "marker": {
             "colorbar": {
              "outlinewidth": 0,
              "ticks": ""
             }
            },
            "type": "scatterternary"
           }
          ],
          "surface": [
           {
            "colorbar": {
             "outlinewidth": 0,
             "ticks": ""
            },
            "colorscale": [
             [
              0,
              "#0d0887"
             ],
             [
              0.1111111111111111,
              "#46039f"
             ],
             [
              0.2222222222222222,
              "#7201a8"
             ],
             [
              0.3333333333333333,
              "#9c179e"
             ],
             [
              0.4444444444444444,
              "#bd3786"
             ],
             [
              0.5555555555555556,
              "#d8576b"
             ],
             [
              0.6666666666666666,
              "#ed7953"
             ],
             [
              0.7777777777777778,
              "#fb9f3a"
             ],
             [
              0.8888888888888888,
              "#fdca26"
             ],
             [
              1,
              "#f0f921"
             ]
            ],
            "type": "surface"
           }
          ],
          "table": [
           {
            "cells": {
             "fill": {
              "color": "#EBF0F8"
             },
             "line": {
              "color": "white"
             }
            },
            "header": {
             "fill": {
              "color": "#C8D4E3"
             },
             "line": {
              "color": "white"
             }
            },
            "type": "table"
           }
          ]
         },
         "layout": {
          "annotationdefaults": {
           "arrowcolor": "#2a3f5f",
           "arrowhead": 0,
           "arrowwidth": 1
          },
          "autotypenumbers": "strict",
          "coloraxis": {
           "colorbar": {
            "outlinewidth": 0,
            "ticks": ""
           }
          },
          "colorscale": {
           "diverging": [
            [
             0,
             "#8e0152"
            ],
            [
             0.1,
             "#c51b7d"
            ],
            [
             0.2,
             "#de77ae"
            ],
            [
             0.3,
             "#f1b6da"
            ],
            [
             0.4,
             "#fde0ef"
            ],
            [
             0.5,
             "#f7f7f7"
            ],
            [
             0.6,
             "#e6f5d0"
            ],
            [
             0.7,
             "#b8e186"
            ],
            [
             0.8,
             "#7fbc41"
            ],
            [
             0.9,
             "#4d9221"
            ],
            [
             1,
             "#276419"
            ]
           ],
           "sequential": [
            [
             0,
             "#0d0887"
            ],
            [
             0.1111111111111111,
             "#46039f"
            ],
            [
             0.2222222222222222,
             "#7201a8"
            ],
            [
             0.3333333333333333,
             "#9c179e"
            ],
            [
             0.4444444444444444,
             "#bd3786"
            ],
            [
             0.5555555555555556,
             "#d8576b"
            ],
            [
             0.6666666666666666,
             "#ed7953"
            ],
            [
             0.7777777777777778,
             "#fb9f3a"
            ],
            [
             0.8888888888888888,
             "#fdca26"
            ],
            [
             1,
             "#f0f921"
            ]
           ],
           "sequentialminus": [
            [
             0,
             "#0d0887"
            ],
            [
             0.1111111111111111,
             "#46039f"
            ],
            [
             0.2222222222222222,
             "#7201a8"
            ],
            [
             0.3333333333333333,
             "#9c179e"
            ],
            [
             0.4444444444444444,
             "#bd3786"
            ],
            [
             0.5555555555555556,
             "#d8576b"
            ],
            [
             0.6666666666666666,
             "#ed7953"
            ],
            [
             0.7777777777777778,
             "#fb9f3a"
            ],
            [
             0.8888888888888888,
             "#fdca26"
            ],
            [
             1,
             "#f0f921"
            ]
           ]
          },
          "colorway": [
           "#636efa",
           "#EF553B",
           "#00cc96",
           "#ab63fa",
           "#FFA15A",
           "#19d3f3",
           "#FF6692",
           "#B6E880",
           "#FF97FF",
           "#FECB52"
          ],
          "font": {
           "color": "#2a3f5f"
          },
          "geo": {
           "bgcolor": "white",
           "lakecolor": "white",
           "landcolor": "#E5ECF6",
           "showlakes": true,
           "showland": true,
           "subunitcolor": "white"
          },
          "hoverlabel": {
           "align": "left"
          },
          "hovermode": "closest",
          "mapbox": {
           "style": "light"
          },
          "paper_bgcolor": "white",
          "plot_bgcolor": "#E5ECF6",
          "polar": {
           "angularaxis": {
            "gridcolor": "white",
            "linecolor": "white",
            "ticks": ""
           },
           "bgcolor": "#E5ECF6",
           "radialaxis": {
            "gridcolor": "white",
            "linecolor": "white",
            "ticks": ""
           }
          },
          "scene": {
           "xaxis": {
            "backgroundcolor": "#E5ECF6",
            "gridcolor": "white",
            "gridwidth": 2,
            "linecolor": "white",
            "showbackground": true,
            "ticks": "",
            "zerolinecolor": "white"
           },
           "yaxis": {
            "backgroundcolor": "#E5ECF6",
            "gridcolor": "white",
            "gridwidth": 2,
            "linecolor": "white",
            "showbackground": true,
            "ticks": "",
            "zerolinecolor": "white"
           },
           "zaxis": {
            "backgroundcolor": "#E5ECF6",
            "gridcolor": "white",
            "gridwidth": 2,
            "linecolor": "white",
            "showbackground": true,
            "ticks": "",
            "zerolinecolor": "white"
           }
          },
          "shapedefaults": {
           "line": {
            "color": "#2a3f5f"
           }
          },
          "ternary": {
           "aaxis": {
            "gridcolor": "white",
            "linecolor": "white",
            "ticks": ""
           },
           "baxis": {
            "gridcolor": "white",
            "linecolor": "white",
            "ticks": ""
           },
           "bgcolor": "#E5ECF6",
           "caxis": {
            "gridcolor": "white",
            "linecolor": "white",
            "ticks": ""
           }
          },
          "title": {
           "x": 0.05
          },
          "xaxis": {
           "automargin": true,
           "gridcolor": "white",
           "linecolor": "white",
           "ticks": "",
           "title": {
            "standoff": 15
           },
           "zerolinecolor": "white",
           "zerolinewidth": 2
          },
          "yaxis": {
           "automargin": true,
           "gridcolor": "white",
           "linecolor": "white",
           "ticks": "",
           "title": {
            "standoff": 15
           },
           "zerolinecolor": "white",
           "zerolinewidth": 2
          }
         }
        },
        "xaxis": {
         "anchor": "y",
         "domain": [
          0,
          1
         ],
         "title": {
          "text": "name"
         }
        },
        "yaxis": {
         "anchor": "x",
         "domain": [
          0,
          1
         ],
         "title": {
          "text": "DBRG"
         }
        }
       }
      }
     },
     "metadata": {}
    }
   ],
   "metadata": {}
  }
 ],
 "metadata": {
  "orig_nbformat": 4,
  "language_info": {
   "name": "python",
   "version": "3.9.2",
   "mimetype": "text/x-python",
   "codemirror_mode": {
    "name": "ipython",
    "version": 3
   },
   "pygments_lexer": "ipython3",
   "nbconvert_exporter": "python",
   "file_extension": ".py"
  },
  "kernelspec": {
   "name": "python3",
   "display_name": "Python 3.9.2 64-bit"
  },
  "interpreter": {
   "hash": "76dd5e50aa7d9088c6bbf0223e800611d24eed8939a3d3affaa1909081e315b7"
  }
 },
 "nbformat": 4,
 "nbformat_minor": 2
}