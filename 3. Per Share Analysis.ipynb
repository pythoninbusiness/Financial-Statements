{
 "cells": [
  {
   "cell_type": "code",
   "execution_count": 15,
   "metadata": {},
   "outputs": [],
   "source": [
    "from Helpers.CompanyFiling import Filing, fsmetrics\n",
    "import pandas as pd\n",
    "import re"
   ]
  },
  {
   "cell_type": "markdown",
   "metadata": {},
   "source": [
    "# Set Up"
   ]
  },
  {
   "cell_type": "code",
   "execution_count": 16,
   "metadata": {},
   "outputs": [],
   "source": [
    "edgar_filing_urls = [\n",
    "    \"https://www.sec.gov/ix?doc=/Archives/edgar/data/1093691/000155837021010611/plug-20210630x10q.htm\", \"https://www.sec.gov/ix?doc=/Archives/edgar/data/1655210/000165521021000181/bynd-20210703.htm\", \n",
    "    \"https://www.sec.gov/ix?doc=/Archives/edgar/data/1800667/000095017021001008/frog-20210630.htm\", \"https://www.sec.gov/ix?doc=/Archives/edgar/data/1517413/000151741321000154/fsly-20210630.htm\",\n",
    "    \"https://www.sec.gov/ix?doc=/Archives/edgar/data/1691421/000169142121000081/lmnd-20210630.htm\", \"https://www.sec.gov/Archives/edgar/data/1617640/000161764021000055/z-20210630.htm\",\n",
    "    \"https://www.sec.gov/ix?doc=/Archives/edgar/data/1679688/000167968821000085/dbrg-20210630.htm\"\n",
    "]\n",
    "edgar_filing_url = edgar_filing_urls[6]\n",
    "filing = Filing.Filing(edgar_filing_url)"
   ]
  },
  {
   "cell_type": "markdown",
   "metadata": {},
   "source": [
    "# Shares Outstanding"
   ]
  },
  {
   "cell_type": "code",
   "execution_count": 17,
   "metadata": {},
   "outputs": [],
   "source": [
    "shares_as_of_date, shares_outstanding = filing.get_oustanding_shares()"
   ]
  },
  {
   "cell_type": "markdown",
   "metadata": {},
   "source": [
    "# Book Value Per Share (BVPS)\n",
    "\n",
    "**Formula**: Total Equity / Oustanding Shares\n",
    "\n",
    "This can be useful when you're conducting a thorough analysis of a stock. In a nutshell, a lower price-to-book ratio could indicate that a stock is undervalued. When you're comparing two stocks with similar growth and profitability, P/B can be useful for determining which is the best value at a given moment. The lower a company's price-to-book ratio is, the better a value it generally is. However, a very low P/B ratio can also be a sign of trouble at a company, so it should be used as part of a thorough stock analysis.\n",
    "\n",
    "Price to book is useful only for evaluating certain types of businesses. If most of a business's assets are intangible -- as is the case with many technology companies -- its price to book may be unhelpfully high. Software giant Microsoft, for example, trades for more than 10 times its book value. On the other hand, price to book can be useful for capital-intensive businesses like banks.\n",
    "\n",
    "A P/B ratio analysis doesn't tell us much all by itself. To get a more complete picture of a company's valuation, you should use it in combination with profitability metrics such as return on equity (ROE). "
   ]
  },
  {
   "cell_type": "code",
   "execution_count": 18,
   "metadata": {},
   "outputs": [
    {
     "name": "stdout",
     "output_type": "stream",
     "text": [
      "in thousands\n",
      "Unable to clean column - Captions.\n"
     ]
    }
   ],
   "source": [
    "bvps = fsmetrics.book_value_per_share(filing.balance_sheet_url, shares_outstanding)"
   ]
  },
  {
   "cell_type": "markdown",
   "metadata": {},
   "source": [
    "# Cash Flow Per Share\n",
    "\n",
    "**Formula for Operating Cash Flow**: Net change in Operating Activity / Outstanding Shares\n",
    "\n",
    "**Formula for Overall Cash Flow**: Net Change in cash / Outstanding Shares"
   ]
  },
  {
   "cell_type": "code",
   "execution_count": 19,
   "metadata": {},
   "outputs": [
    {
     "name": "stdout",
     "output_type": "stream",
     "text": [
      "in thousands\n",
      "Unable to clean column - Captions.\n",
      "in thousands\n",
      "Unable to clean column - Captions.\n"
     ]
    }
   ],
   "source": [
    "overall_operating_activity_per_share, overall_cash_flow_per_share = fsmetrics.cash_flow_per_share(filing.cash_flow_url, shares_outstanding)\n",
    "overall_operating_activity_dollar, overall_cash_flow_dollar = fsmetrics.cash_flow_per_share(filing.cash_flow_url, shares_outstanding, per_share=False)"
   ]
  },
  {
   "cell_type": "markdown",
   "metadata": {},
   "source": [
    "# Report"
   ]
  },
  {
   "cell_type": "code",
   "execution_count": 20,
   "metadata": {},
   "outputs": [
    {
     "name": "stdout",
     "output_type": "stream",
     "text": [
      "Ticker: DBRG\n",
      "Shares: 492,436,141 as of Aug. 02, 2021\n",
      "Book Value per share: 4.2827\n",
      "Overall Operating Activity: $ 104,896,000.00 and Overall Cash Flow per share: 0.21\n",
      "Overall Cash Flow: 211,115,000.00 and Overall Cash Flow per share: 0.43\n"
     ]
    }
   ],
   "source": [
    "print(f\"Ticker: {filing.ticker.upper()}\")\n",
    "print(f\"Shares: {shares_outstanding:,.0f} as of {shares_as_of_date}\")\n",
    "print(f\"Book Value per share: {round(bvps, 4)}\")\n",
    "print(f\"Overall Operating Activity: $ {overall_operating_activity_dollar:,.2f} and Overall Cash Flow per share: {overall_operating_activity_per_share:,.2f}\")\n",
    "print(f\"Overall Cash Flow: {overall_cash_flow_dollar:,.2f} and Overall Cash Flow per share: {overall_cash_flow_per_share:,.2f}\")"
   ]
  },
  {
   "cell_type": "code",
   "execution_count": null,
   "metadata": {},
   "outputs": [],
   "source": []
  }
 ],
 "metadata": {
  "interpreter": {
   "hash": "db39ee1d1697936e9b3787885acc8d8cf5498f917b7f5c0a7c8915a093832244"
  },
  "kernelspec": {
   "display_name": "Python 3.9.7 64-bit (windows store)",
   "name": "python3"
  },
  "language_info": {
   "codemirror_mode": {
    "name": "ipython",
    "version": 3
   },
   "file_extension": ".py",
   "mimetype": "text/x-python",
   "name": "python",
   "nbconvert_exporter": "python",
   "pygments_lexer": "ipython3",
   "version": "3.9.7"
  },
  "orig_nbformat": 4
 },
 "nbformat": 4,
 "nbformat_minor": 2
}
