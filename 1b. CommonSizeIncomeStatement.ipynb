{
 "cells": [
  {
   "cell_type": "markdown",
   "source": [
    "# Common Size Income Statement"
   ],
   "metadata": {}
  },
  {
   "cell_type": "markdown",
   "source": [
    "**Purpose**: The purpose of this notebook is to obtain the Income Statement table from a Company filing (10-Q, 10-K) using the filing url. Edgar nicely provides just the table, which can be easily extracted using Pandas for further analysis. We want to convert the statement to a common size statement by dividing each year by Gross Revenue. As a result, we can see each caption relative to our divisor."
   ],
   "metadata": {}
  },
  {
   "cell_type": "markdown",
   "source": [
    "## Imports"
   ],
   "metadata": {}
  },
  {
   "cell_type": "code",
   "execution_count": 1,
   "source": [
    "from Helpers.CompanyFiling import Filing\r\n",
    "import re"
   ],
   "outputs": [],
   "metadata": {}
  },
  {
   "cell_type": "markdown",
   "source": [
    "## Set Up"
   ],
   "metadata": {}
  },
  {
   "cell_type": "markdown",
   "source": [
    "Get the URL for the edgar filing. This is the \"index-htm\" page edgar directs you to when you click on a quarterly/annual report. We sould convert the url to redirect us to the folder structure of the filing package. Once inside, the folder has a file called the \"FilingSummary.xml\" which describes each item in the folder. We will scrape the filing summary to identify the file the statement is stored in. "
   ],
   "metadata": {}
  },
  {
   "cell_type": "code",
   "execution_count": 2,
   "source": [
    "edgar_filing_url = \"https://www.sec.gov/Archives/edgar/data/1617640/000161764021000012/0001617640-21-000012-index.html\"\r\n",
    "base_url, filing_summary_url = Filing.convert_filing_to_folder(edgar_filing_url=edgar_filing_url)\r\n",
    "slugs = Filing.retrieve_face_report_slugs(filing_summary_url)\r\n",
    "income_statement_url = base_url + \"/\" + slugs[\"IS\"]"
   ],
   "outputs": [],
   "metadata": {}
  },
  {
   "cell_type": "markdown",
   "source": [
    "## Clean"
   ],
   "metadata": {}
  },
  {
   "cell_type": "markdown",
   "source": [
    "In order to analyze the statement, we first use pandas to read the table form the URL we discovered above. We clean the dataframe by renaming the first column header,  converting the multi-index columns to be a single index, and converting the data types to be numeric. Next, we remove rows where all numeric columns are all missing.\r\n",
    "\r\n",
    "Lastly, we return the common size statement by dividng by the Total Assets row."
   ],
   "metadata": {}
  },
  {
   "cell_type": "code",
   "execution_count": 3,
   "source": [
    "is_df = Filing.get_clean_table(income_statement_url)\r\n",
    "\r\n",
    "# ignore rows where the caption contains square brackets, typically disclosures. We ignore these for the sake of our quick analysis. Footnotes on the face will be evaluated\r\n",
    "# when reading through the annual report\r\n",
    "is_df = is_df.query(\"~Captions.fillna('').str.contains('\\[')\") \r\n",
    "is_df = is_df.query(\"Captions.notnull()\")\r\n",
    "\r\n",
    "# drop columns where 90% is missing\r\n",
    "is_df = is_df.dropna(thresh=len(is_df)*.1, axis=1)\r\n",
    "is_df = is_df.pipe(Filing.clean_dataframe)\r\n",
    "is_df = is_df.pipe(Filing.remove_rows_of_zeros)\r\n",
    "\r\n",
    "is_df = is_df.drop_duplicates(subset=[\"Captions\"], keep=\"first\")\r\n",
    "\r\n",
    "is_df = Filing.common_size_financial_statement(is_df, divisor=is_df.select_dtypes(\"number\").iloc[0])"
   ],
   "outputs": [
    {
     "output_type": "stream",
     "name": "stdout",
     "text": [
      "Unable to clean column - Captions.\n",
      "Unable to clean column - Dec. 31, 2020.\n",
      "Unable to clean column - Dec. 31, 2019.\n",
      "Unable to clean column - Captions.\n"
     ]
    }
   ],
   "metadata": {}
  },
  {
   "cell_type": "markdown",
   "source": [
    "## Visualize"
   ],
   "metadata": {}
  },
  {
   "cell_type": "markdown",
   "source": [
    "We use pandas styler objects to add padding, add background colors, and format our numbers."
   ],
   "metadata": {}
  },
  {
   "cell_type": "code",
   "execution_count": 4,
   "source": [
    "is_df.style\\\r\n",
    "    .background_gradient(cmap='Blues', axis=0,)\\\r\n",
    "    .set_properties(**{'padding': '10px'})\\\r\n",
    "    .hide_index()\\\r\n",
    "    .format({col: '{:,.2%}'.format for col in is_df.select_dtypes(\"number\").columns })\\\r\n"
   ],
   "outputs": [
    {
     "output_type": "execute_result",
     "data": {
      "text/html": [
       "<style  type=\"text/css\" >\n",
       "#T_3cd90_row0_col0,#T_3cd90_row1_col0,#T_3cd90_row2_col0,#T_3cd90_row3_col0,#T_3cd90_row4_col0,#T_3cd90_row5_col0,#T_3cd90_row6_col0,#T_3cd90_row7_col0,#T_3cd90_row8_col0,#T_3cd90_row9_col0,#T_3cd90_row10_col0,#T_3cd90_row11_col0,#T_3cd90_row12_col0,#T_3cd90_row13_col0,#T_3cd90_row14_col0,#T_3cd90_row15_col0,#T_3cd90_row16_col0,#T_3cd90_row17_col0{\n",
       "            padding:  10px;\n",
       "        }#T_3cd90_row0_col1{\n",
       "            background-color:  #08326e;\n",
       "            color:  #f1f1f1;\n",
       "            padding:  10px;\n",
       "        }#T_3cd90_row0_col2{\n",
       "            background-color:  #084488;\n",
       "            color:  #f1f1f1;\n",
       "            padding:  10px;\n",
       "        }#T_3cd90_row0_col3{\n",
       "            background-color:  #08458a;\n",
       "            color:  #f1f1f1;\n",
       "            padding:  10px;\n",
       "        }#T_3cd90_row1_col1{\n",
       "            background-color:  #5da5d1;\n",
       "            color:  #000000;\n",
       "            padding:  10px;\n",
       "        }#T_3cd90_row1_col2{\n",
       "            background-color:  #61a7d2;\n",
       "            color:  #000000;\n",
       "            padding:  10px;\n",
       "        }#T_3cd90_row1_col3{\n",
       "            background-color:  #d2e3f3;\n",
       "            color:  #000000;\n",
       "            padding:  10px;\n",
       "        }#T_3cd90_row2_col1{\n",
       "            background-color:  #c9ddf0;\n",
       "            color:  #000000;\n",
       "            padding:  10px;\n",
       "        }#T_3cd90_row2_col2{\n",
       "            background-color:  #b3d3e8;\n",
       "            color:  #000000;\n",
       "            padding:  10px;\n",
       "        }#T_3cd90_row2_col3{\n",
       "            background-color:  #85bcdc;\n",
       "            color:  #000000;\n",
       "            padding:  10px;\n",
       "        }#T_3cd90_row3_col1{\n",
       "            background-color:  #d1e2f3;\n",
       "            color:  #000000;\n",
       "            padding:  10px;\n",
       "        }#T_3cd90_row3_col2{\n",
       "            background-color:  #c8dcf0;\n",
       "            color:  #000000;\n",
       "            padding:  10px;\n",
       "        }#T_3cd90_row3_col3{\n",
       "            background-color:  #a6cee4;\n",
       "            color:  #000000;\n",
       "            padding:  10px;\n",
       "        }#T_3cd90_row4_col1{\n",
       "            background-color:  #dae8f6;\n",
       "            color:  #000000;\n",
       "            padding:  10px;\n",
       "        }#T_3cd90_row4_col2{\n",
       "            background-color:  #cfe1f2;\n",
       "            color:  #000000;\n",
       "            padding:  10px;\n",
       "        }#T_3cd90_row4_col3{\n",
       "            background-color:  #c4daee;\n",
       "            color:  #000000;\n",
       "            padding:  10px;\n",
       "        }#T_3cd90_row5_col1,#T_3cd90_row12_col3{\n",
       "            background-color:  #eaf2fb;\n",
       "            color:  #000000;\n",
       "            padding:  10px;\n",
       "        }#T_3cd90_row5_col2,#T_3cd90_row6_col2,#T_3cd90_row6_col3,#T_3cd90_row7_col2,#T_3cd90_row7_col3,#T_3cd90_row10_col2,#T_3cd90_row14_col2,#T_3cd90_row16_col2{\n",
       "            background-color:  #e4eff9;\n",
       "            color:  #000000;\n",
       "            padding:  10px;\n",
       "        }#T_3cd90_row5_col3{\n",
       "            background-color:  #dbe9f6;\n",
       "            color:  #000000;\n",
       "            padding:  10px;\n",
       "        }#T_3cd90_row6_col1,#T_3cd90_row7_col1,#T_3cd90_row10_col1,#T_3cd90_row14_col1,#T_3cd90_row16_col1{\n",
       "            background-color:  #eef5fc;\n",
       "            color:  #000000;\n",
       "            padding:  10px;\n",
       "        }#T_3cd90_row8_col1,#T_3cd90_row8_col2,#T_3cd90_row8_col3{\n",
       "            background-color:  #08306b;\n",
       "            color:  #f1f1f1;\n",
       "            padding:  10px;\n",
       "        }#T_3cd90_row9_col1{\n",
       "            background-color:  #f0f6fd;\n",
       "            color:  #000000;\n",
       "            padding:  10px;\n",
       "        }#T_3cd90_row9_col2,#T_3cd90_row15_col3{\n",
       "            background-color:  #f4f9fe;\n",
       "            color:  #000000;\n",
       "            padding:  10px;\n",
       "        }#T_3cd90_row9_col3{\n",
       "            background-color:  #f5f9fe;\n",
       "            color:  #000000;\n",
       "            padding:  10px;\n",
       "        }#T_3cd90_row10_col3,#T_3cd90_row16_col3{\n",
       "            background-color:  #e5eff9;\n",
       "            color:  #000000;\n",
       "            padding:  10px;\n",
       "        }#T_3cd90_row11_col1{\n",
       "            background-color:  #ecf4fb;\n",
       "            color:  #000000;\n",
       "            padding:  10px;\n",
       "        }#T_3cd90_row11_col2,#T_3cd90_row11_col3{\n",
       "            background-color:  #e2edf8;\n",
       "            color:  #000000;\n",
       "            padding:  10px;\n",
       "        }#T_3cd90_row12_col1{\n",
       "            background-color:  #f6faff;\n",
       "            color:  #000000;\n",
       "            padding:  10px;\n",
       "        }#T_3cd90_row12_col2{\n",
       "            background-color:  #eaf3fb;\n",
       "            color:  #000000;\n",
       "            padding:  10px;\n",
       "        }#T_3cd90_row13_col1,#T_3cd90_row13_col2,#T_3cd90_row13_col3,#T_3cd90_row15_col1,#T_3cd90_row15_col2{\n",
       "            background-color:  #f7fbff;\n",
       "            color:  #000000;\n",
       "            padding:  10px;\n",
       "        }#T_3cd90_row14_col3,#T_3cd90_row17_col1{\n",
       "            background-color:  #e1edf8;\n",
       "            color:  #000000;\n",
       "            padding:  10px;\n",
       "        }#T_3cd90_row17_col2{\n",
       "            background-color:  #d8e7f5;\n",
       "            color:  #000000;\n",
       "            padding:  10px;\n",
       "        }#T_3cd90_row17_col3{\n",
       "            background-color:  #cddff1;\n",
       "            color:  #000000;\n",
       "            padding:  10px;\n",
       "        }</style><table id=\"T_3cd90_\" ><thead>    <tr>        <th class=\"col_heading level0 col0\" >Captions</th>        <th class=\"col_heading level0 col1\" >Dec. 31, 2020</th>        <th class=\"col_heading level0 col2\" >Dec. 31, 2019</th>        <th class=\"col_heading level0 col3\" >Dec. 31, 2018</th>    </tr></thead><tbody>\n",
       "                <tr>\n",
       "                                <td id=\"T_3cd90_row0_col0\" class=\"data row0 col0\" >Revenue</td>\n",
       "                        <td id=\"T_3cd90_row0_col1\" class=\"data row0 col1\" >100.00%</td>\n",
       "                        <td id=\"T_3cd90_row0_col2\" class=\"data row0 col2\" >100.00%</td>\n",
       "                        <td id=\"T_3cd90_row0_col3\" class=\"data row0 col3\" >100.00%</td>\n",
       "            </tr>\n",
       "            <tr>\n",
       "                                <td id=\"T_3cd90_row1_col0\" class=\"data row1 col0\" >Cost of revenue</td>\n",
       "                        <td id=\"T_3cd90_row1_col1\" class=\"data row1 col1\" >52.59%</td>\n",
       "                        <td id=\"T_3cd90_row1_col2\" class=\"data row1 col2\" >52.21%</td>\n",
       "                        <td id=\"T_3cd90_row1_col3\" class=\"data row1 col3\" >11.52%</td>\n",
       "            </tr>\n",
       "            <tr>\n",
       "                                <td id=\"T_3cd90_row2_col0\" class=\"data row2 col0\" >Sales and marketing</td>\n",
       "                        <td id=\"T_3cd90_row2_col1\" class=\"data row2 col1\" >20.15%</td>\n",
       "                        <td id=\"T_3cd90_row2_col2\" class=\"data row2 col2\" >26.04%</td>\n",
       "                        <td id=\"T_3cd90_row2_col3\" class=\"data row2 col3\" >41.44%</td>\n",
       "            </tr>\n",
       "            <tr>\n",
       "                                <td id=\"T_3cd90_row3_col0\" class=\"data row3 col0\" >Technology and development</td>\n",
       "                        <td id=\"T_3cd90_row3_col1\" class=\"data row3 col1\" >15.51%</td>\n",
       "                        <td id=\"T_3cd90_row3_col2\" class=\"data row3 col2\" >17.40%</td>\n",
       "                        <td id=\"T_3cd90_row3_col3\" class=\"data row3 col3\" >30.81%</td>\n",
       "            </tr>\n",
       "            <tr>\n",
       "                                <td id=\"T_3cd90_row4_col0\" class=\"data row4 col0\" >General and administrative</td>\n",
       "                        <td id=\"T_3cd90_row4_col1\" class=\"data row4 col1\" >10.69%</td>\n",
       "                        <td id=\"T_3cd90_row4_col2\" class=\"data row4 col2\" >13.35%</td>\n",
       "                        <td id=\"T_3cd90_row4_col3\" class=\"data row4 col3\" >19.66%</td>\n",
       "            </tr>\n",
       "            <tr>\n",
       "                                <td id=\"T_3cd90_row5_col0\" class=\"data row5 col0\" >Impairment costs</td>\n",
       "                        <td id=\"T_3cd90_row5_col1\" class=\"data row5 col1\" >2.30%</td>\n",
       "                        <td id=\"T_3cd90_row5_col2\" class=\"data row5 col2\" >0.00%</td>\n",
       "                        <td id=\"T_3cd90_row5_col3\" class=\"data row5 col3\" >5.92%</td>\n",
       "            </tr>\n",
       "            <tr>\n",
       "                                <td id=\"T_3cd90_row6_col0\" class=\"data row6 col0\" >Acquisition-related costs</td>\n",
       "                        <td id=\"T_3cd90_row6_col1\" class=\"data row6 col1\" >0.00%</td>\n",
       "                        <td id=\"T_3cd90_row6_col2\" class=\"data row6 col2\" >0.00%</td>\n",
       "                        <td id=\"T_3cd90_row6_col3\" class=\"data row6 col3\" >0.17%</td>\n",
       "            </tr>\n",
       "            <tr>\n",
       "                                <td id=\"T_3cd90_row7_col0\" class=\"data row7 col0\" >Integration costs</td>\n",
       "                        <td id=\"T_3cd90_row7_col1\" class=\"data row7 col1\" >0.00%</td>\n",
       "                        <td id=\"T_3cd90_row7_col2\" class=\"data row7 col2\" >0.02%</td>\n",
       "                        <td id=\"T_3cd90_row7_col3\" class=\"data row7 col3\" >0.15%</td>\n",
       "            </tr>\n",
       "            <tr>\n",
       "                                <td id=\"T_3cd90_row8_col0\" class=\"data row8 col0\" >Total costs and expenses</td>\n",
       "                        <td id=\"T_3cd90_row8_col1\" class=\"data row8 col1\" >101.24%</td>\n",
       "                        <td id=\"T_3cd90_row8_col2\" class=\"data row8 col2\" >109.02%</td>\n",
       "                        <td id=\"T_3cd90_row8_col3\" class=\"data row8 col3\" >109.67%</td>\n",
       "            </tr>\n",
       "            <tr>\n",
       "                                <td id=\"T_3cd90_row9_col0\" class=\"data row9 col0\" >Loss from operations</td>\n",
       "                        <td id=\"T_3cd90_row9_col1\" class=\"data row9 col1\" >-1.24%</td>\n",
       "                        <td id=\"T_3cd90_row9_col2\" class=\"data row9 col2\" >-9.02%</td>\n",
       "                        <td id=\"T_3cd90_row9_col3\" class=\"data row9 col3\" >-9.67%</td>\n",
       "            </tr>\n",
       "            <tr>\n",
       "                                <td id=\"T_3cd90_row10_col0\" class=\"data row10 col0\" >Gain on extinguishment of 2021 Notes</td>\n",
       "                        <td id=\"T_3cd90_row10_col1\" class=\"data row10 col1\" >0.04%</td>\n",
       "                        <td id=\"T_3cd90_row10_col2\" class=\"data row10 col2\" >0.00%</td>\n",
       "                        <td id=\"T_3cd90_row10_col3\" class=\"data row10 col3\" >0.00%</td>\n",
       "            </tr>\n",
       "            <tr>\n",
       "                                <td id=\"T_3cd90_row11_col0\" class=\"data row11 col0\" >Other income</td>\n",
       "                        <td id=\"T_3cd90_row11_col1\" class=\"data row11 col1\" >0.76%</td>\n",
       "                        <td id=\"T_3cd90_row11_col2\" class=\"data row11 col2\" >1.45%</td>\n",
       "                        <td id=\"T_3cd90_row11_col3\" class=\"data row11 col3\" >1.45%</td>\n",
       "            </tr>\n",
       "            <tr>\n",
       "                                <td id=\"T_3cd90_row12_col0\" class=\"data row12 col0\" >Interest expense</td>\n",
       "                        <td id=\"T_3cd90_row12_col1\" class=\"data row12 col1\" >-4.65%</td>\n",
       "                        <td id=\"T_3cd90_row12_col2\" class=\"data row12 col2\" >-3.71%</td>\n",
       "                        <td id=\"T_3cd90_row12_col3\" class=\"data row12 col3\" >-3.09%</td>\n",
       "            </tr>\n",
       "            <tr>\n",
       "                                <td id=\"T_3cd90_row13_col0\" class=\"data row13 col0\" >Loss before income taxes</td>\n",
       "                        <td id=\"T_3cd90_row13_col1\" class=\"data row13 col1\" >-5.08%</td>\n",
       "                        <td id=\"T_3cd90_row13_col2\" class=\"data row13 col2\" >-11.29%</td>\n",
       "                        <td id=\"T_3cd90_row13_col3\" class=\"data row13 col3\" >-11.32%</td>\n",
       "            </tr>\n",
       "            <tr>\n",
       "                                <td id=\"T_3cd90_row14_col0\" class=\"data row14 col0\" >Income tax benefit</td>\n",
       "                        <td id=\"T_3cd90_row14_col1\" class=\"data row14 col1\" >0.23%</td>\n",
       "                        <td id=\"T_3cd90_row14_col2\" class=\"data row14 col2\" >0.16%</td>\n",
       "                        <td id=\"T_3cd90_row14_col3\" class=\"data row14 col3\" >2.33%</td>\n",
       "            </tr>\n",
       "            <tr>\n",
       "                                <td id=\"T_3cd90_row15_col0\" class=\"data row15 col0\" >Net loss</td>\n",
       "                        <td id=\"T_3cd90_row15_col1\" class=\"data row15 col1\" >-4.85%</td>\n",
       "                        <td id=\"T_3cd90_row15_col2\" class=\"data row15 col2\" >-11.13%</td>\n",
       "                        <td id=\"T_3cd90_row15_col3\" class=\"data row15 col3\" >-8.99%</td>\n",
       "            </tr>\n",
       "            <tr>\n",
       "                                <td id=\"T_3cd90_row16_col0\" class=\"data row16 col0\" >Net loss per share - basic and diluted (usd per share)</td>\n",
       "                        <td id=\"T_3cd90_row16_col1\" class=\"data row16 col1\" >-0.00%</td>\n",
       "                        <td id=\"T_3cd90_row16_col2\" class=\"data row16 col2\" >-0.00%</td>\n",
       "                        <td id=\"T_3cd90_row16_col3\" class=\"data row16 col3\" >-0.00%</td>\n",
       "            </tr>\n",
       "            <tr>\n",
       "                                <td id=\"T_3cd90_row17_col0\" class=\"data row17 col0\" >Weighted-average shares outstanding - basic and diluted (in shares)</td>\n",
       "                        <td id=\"T_3cd90_row17_col1\" class=\"data row17 col1\" >6.70%</td>\n",
       "                        <td id=\"T_3cd90_row17_col2\" class=\"data row17 col2\" >7.52%</td>\n",
       "                        <td id=\"T_3cd90_row17_col3\" class=\"data row17 col3\" >14.84%</td>\n",
       "            </tr>\n",
       "    </tbody></table>"
      ],
      "text/plain": [
       "<pandas.io.formats.style.Styler at 0x214db2e68e0>"
      ]
     },
     "metadata": {},
     "execution_count": 4
    }
   ],
   "metadata": {}
  }
 ],
 "metadata": {
  "orig_nbformat": 4,
  "language_info": {
   "name": "python",
   "version": "3.9.2",
   "mimetype": "text/x-python",
   "codemirror_mode": {
    "name": "ipython",
    "version": 3
   },
   "pygments_lexer": "ipython3",
   "nbconvert_exporter": "python",
   "file_extension": ".py"
  },
  "kernelspec": {
   "name": "python3",
   "display_name": "Python 3.9.2 64-bit"
  },
  "interpreter": {
   "hash": "76dd5e50aa7d9088c6bbf0223e800611d24eed8939a3d3affaa1909081e315b7"
  }
 },
 "nbformat": 4,
 "nbformat_minor": 2
}