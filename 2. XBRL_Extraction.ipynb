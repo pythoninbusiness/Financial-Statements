{
 "cells": [
  {
   "cell_type": "code",
   "execution_count": 1,
   "source": [
    "from Helpers.XBRL import XBRLReport"
   ],
   "outputs": [],
   "metadata": {}
  },
  {
   "cell_type": "code",
   "execution_count": 2,
   "source": [
    "filing_url = \"https://www.sec.gov/ix?doc=/Archives/edgar/data/1679688/000167968821000085/dbrg-20210630.htm\"\r\n",
    "prior_year_url = \"https://www.sec.gov/ix?doc=/Archives/edgar/data/1679688/000167968820000059/clny2020q210-q.htm\""
   ],
   "outputs": [],
   "metadata": {}
  },
  {
   "cell_type": "code",
   "execution_count": 3,
   "source": [
    "report = XBRLReport.XBRLReport(filing_url)"
   ],
   "outputs": [
    {
     "output_type": "stream",
     "name": "stdout",
     "text": [
      "Initial report successfully loaded!\n"
     ]
    }
   ],
   "metadata": {}
  },
  {
   "cell_type": "code",
   "execution_count": 4,
   "source": [
    "report.facts_df.head(5)"
   ],
   "outputs": [
    {
     "output_type": "execute_result",
     "data": {
      "text/html": [
       "<div>\n",
       "<style scoped>\n",
       "    .dataframe tbody tr th:only-of-type {\n",
       "        vertical-align: middle;\n",
       "    }\n",
       "\n",
       "    .dataframe tbody tr th {\n",
       "        vertical-align: top;\n",
       "    }\n",
       "\n",
       "    .dataframe thead th {\n",
       "        text-align: right;\n",
       "    }\n",
       "</style>\n",
       "<table border=\"1\" class=\"dataframe\">\n",
       "  <thead>\n",
       "    <tr style=\"text-align: right;\">\n",
       "      <th></th>\n",
       "      <th>name</th>\n",
       "      <th>context</th>\n",
       "      <th>value</th>\n",
       "      <th>date</th>\n",
       "      <th>dimensions</th>\n",
       "      <th>Quarter</th>\n",
       "      <th>Year</th>\n",
       "      <th>Amended</th>\n",
       "      <th>Ticker</th>\n",
       "    </tr>\n",
       "  </thead>\n",
       "  <tbody>\n",
       "    <tr>\n",
       "      <th>0</th>\n",
       "      <td>EntityCentralIndexKey</td>\n",
       "      <td>i3035a9c1149b422a880b2a450a815d25_D20210101-20...</td>\n",
       "      <td>0001679688</td>\n",
       "      <td>01/01/2021 to 06/30/2021</td>\n",
       "      <td></td>\n",
       "      <td>Q2</td>\n",
       "      <td>2021</td>\n",
       "      <td>false</td>\n",
       "      <td>DBRG</td>\n",
       "    </tr>\n",
       "    <tr>\n",
       "      <th>1</th>\n",
       "      <td>DocumentFiscalYearFocus</td>\n",
       "      <td>i3035a9c1149b422a880b2a450a815d25_D20210101-20...</td>\n",
       "      <td>2021</td>\n",
       "      <td>01/01/2021 to 06/30/2021</td>\n",
       "      <td></td>\n",
       "      <td>Q2</td>\n",
       "      <td>2021</td>\n",
       "      <td>false</td>\n",
       "      <td>DBRG</td>\n",
       "    </tr>\n",
       "    <tr>\n",
       "      <th>2</th>\n",
       "      <td>DocumentFiscalPeriodFocus</td>\n",
       "      <td>i3035a9c1149b422a880b2a450a815d25_D20210101-20...</td>\n",
       "      <td>Q2</td>\n",
       "      <td>01/01/2021 to 06/30/2021</td>\n",
       "      <td></td>\n",
       "      <td>Q2</td>\n",
       "      <td>2021</td>\n",
       "      <td>false</td>\n",
       "      <td>DBRG</td>\n",
       "    </tr>\n",
       "    <tr>\n",
       "      <th>3</th>\n",
       "      <td>AmendmentFlag</td>\n",
       "      <td>i3035a9c1149b422a880b2a450a815d25_D20210101-20...</td>\n",
       "      <td>false</td>\n",
       "      <td>01/01/2021 to 06/30/2021</td>\n",
       "      <td></td>\n",
       "      <td>Q2</td>\n",
       "      <td>2021</td>\n",
       "      <td>false</td>\n",
       "      <td>DBRG</td>\n",
       "    </tr>\n",
       "    <tr>\n",
       "      <th>4</th>\n",
       "      <td>CurrentFiscalYearEndDate</td>\n",
       "      <td>i3035a9c1149b422a880b2a450a815d25_D20210101-20...</td>\n",
       "      <td>--12-31</td>\n",
       "      <td>01/01/2021 to 06/30/2021</td>\n",
       "      <td></td>\n",
       "      <td>Q2</td>\n",
       "      <td>2021</td>\n",
       "      <td>false</td>\n",
       "      <td>DBRG</td>\n",
       "    </tr>\n",
       "  </tbody>\n",
       "</table>\n",
       "</div>"
      ],
      "text/plain": [
       "                        name  \\\n",
       "0      EntityCentralIndexKey   \n",
       "1    DocumentFiscalYearFocus   \n",
       "2  DocumentFiscalPeriodFocus   \n",
       "3              AmendmentFlag   \n",
       "4   CurrentFiscalYearEndDate   \n",
       "\n",
       "                                             context       value  \\\n",
       "0  i3035a9c1149b422a880b2a450a815d25_D20210101-20...  0001679688   \n",
       "1  i3035a9c1149b422a880b2a450a815d25_D20210101-20...        2021   \n",
       "2  i3035a9c1149b422a880b2a450a815d25_D20210101-20...          Q2   \n",
       "3  i3035a9c1149b422a880b2a450a815d25_D20210101-20...       false   \n",
       "4  i3035a9c1149b422a880b2a450a815d25_D20210101-20...     --12-31   \n",
       "\n",
       "                       date dimensions Quarter  Year Amended Ticker  \n",
       "0  01/01/2021 to 06/30/2021                 Q2  2021   false   DBRG  \n",
       "1  01/01/2021 to 06/30/2021                 Q2  2021   false   DBRG  \n",
       "2  01/01/2021 to 06/30/2021                 Q2  2021   false   DBRG  \n",
       "3  01/01/2021 to 06/30/2021                 Q2  2021   false   DBRG  \n",
       "4  01/01/2021 to 06/30/2021                 Q2  2021   false   DBRG  "
      ]
     },
     "metadata": {},
     "execution_count": 4
    }
   ],
   "metadata": {}
  },
  {
   "cell_type": "code",
   "execution_count": 5,
   "source": [
    "report.append_report(prior_year_url)"
   ],
   "outputs": [
    {
     "output_type": "stream",
     "name": "stdout",
     "text": [
      "Additional report successfully appended!\n"
     ]
    }
   ],
   "metadata": {}
  },
  {
   "cell_type": "code",
   "execution_count": null,
   "source": [],
   "outputs": [],
   "metadata": {}
  }
 ],
 "metadata": {
  "orig_nbformat": 4,
  "language_info": {
   "name": "python",
   "version": "3.9.2",
   "mimetype": "text/x-python",
   "codemirror_mode": {
    "name": "ipython",
    "version": 3
   },
   "pygments_lexer": "ipython3",
   "nbconvert_exporter": "python",
   "file_extension": ".py"
  },
  "kernelspec": {
   "name": "python3",
   "display_name": "Python 3.9.2 64-bit"
  },
  "interpreter": {
   "hash": "76dd5e50aa7d9088c6bbf0223e800611d24eed8939a3d3affaa1909081e315b7"
  }
 },
 "nbformat": 4,
 "nbformat_minor": 2
}